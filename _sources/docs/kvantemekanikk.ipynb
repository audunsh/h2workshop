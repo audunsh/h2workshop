{
 "cells": [
  {
   "cell_type": "markdown",
   "id": "2ec271dc",
   "metadata": {},
   "source": [
    "# Kvantemekanikk\n",
    "\n",
    "Dobbeltspalteksperimentet viser oss at små ting som atomer, elektroner og molekyler trenger en annen beskrivelse enn den vi får fra klassisk fysikk. Dette er ikke små kuler. Vi trenger noe som lar oss modellere disse systemene som bølger med struktur og endring. Vi kan bygge en slik mekanikk basert på tre viktige ingredienser, som ble initrodusert av tre viktige teoretikere på i løpet av 1920-tallet: (1) bølgefunksjoner, (2) en ligning som forteller oss hvordan de utvikler seg i tid, samt (3) en måte å tolke løsningen av ligningen på for å kunne predikere hva naturen gjør. \n",
    "\n",
    "# Bølgefunksjoner\n",
    "\n",
    "Louis de Broglie foreslo i 1924 å utvide Einsteins hypotese om lys til å gjelde for alle partikler. Dermed gav det mening å snakke om frekvens og bølgelengde for alle objekter. Relasjonene mellom energi (E), frekvens (f) og bevegelsesmengde (p) er gitt ved:\n",
    "\n",
    "$$\n",
    "E = hf, \\quad p = \\frac{hf}{c},\n",
    "$$\n",
    "\n",
    "hvor $c$ er lyshastigheten (og bølgelengden er $\\lambda = c/f$).\n",
    "\n",
    "# Schrödingerlikningen\n",
    "\n",
    "Vi har tidligere simulert todimensjonale bølger ved å løse den klassiske bølgelikningen. På samme måte vil bølgefunksjonene som beskriver partiklene utvikle seg i henhold til en likning. Vi skal ikke utlede denne likningen (<a href=\"https://openworldlearning.github.io/docs/quantum_mechanics/schrodinger_equation.html\">men se gjerne her for en utfyllende introduksjon</a>), men skriver den for ordens skyld ned her:\n",
    "\n",
    "$$\n",
    "\\Big{ (}-\\frac{\\hbar^2}{2m}\\frac{\\partial^2 }{\\partial x^2} + V(x) \\Big{)} \\Psi = i \\hbar \\frac{\\partial }{\\partial t}\\Psi.\n",
    "$$\n",
    "\n",
    "I denne likningen er bølgefunksjonen $\\Psi(x,t)$ den ukjente som vi skal bestemme, mens $\\hbar = \\frac{h}{2\\pi}$ er Plancks konstant delt på $2\\pi$, $V(x)$ er et ledd som beskriver omgivelsene (den potensielle energien i et punkt $x$) og $i = \\sqrt{2}$ er den imaginære enheten. \n",
    "\n",
    "For å løse denne likningen for hydrogenatomet må vi sette inn for $V(x)$. Deretter kan vi enten være smarte, og løse problemet med penn og papir, eller vi kan bruke en algoritme slik vi gjorde for den klassiske \n",
    "\n",
    "\n",
    "# Borns fortolkning\n",
    "\n"
   ]
  },
  {
   "cell_type": "code",
   "execution_count": null,
   "id": "9505687d",
   "metadata": {},
   "outputs": [],
   "source": []
  }
 ],
 "metadata": {
  "kernelspec": {
   "display_name": "Python 3 (ipykernel)",
   "language": "python",
   "name": "python3"
  },
  "language_info": {
   "codemirror_mode": {
    "name": "ipython",
    "version": 3
   },
   "file_extension": ".py",
   "mimetype": "text/x-python",
   "name": "python",
   "nbconvert_exporter": "python",
   "pygments_lexer": "ipython3",
   "version": "3.10.6"
  }
 },
 "nbformat": 4,
 "nbformat_minor": 5
}
