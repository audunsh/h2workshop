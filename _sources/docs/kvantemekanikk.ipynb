{
 "cells": [
  {
   "cell_type": "markdown",
   "id": "15ca2d1c",
   "metadata": {},
   "source": [
    "# Kvantemekanikk\n",
    "\n",
    "Dobbeltspalteksperimentet viser oss at små ting som atomer, elektroner og molekyler trenger en annen beskrivelse enn den vi får fra klassisk fysikk. Dette er ikke små kuler. Vi trenger noe som lar oss modellere disse systemene som bølger med struktur og endring. Vi kan bygge en slik mekanikk basert på tre viktige ingredienser, som ble introdusert av tre viktige teoretikere på i løpet av 1920-tallet: (1) bølgefunksjoner, (2) en ligning som forteller oss hvordan de utvikler seg i tid, samt (3) en måte å tolke løsningen av ligningen på for å kunne forutsi hva naturen gjør. \n",
    "\n",
    "# Bølgefunksjoner\n",
    "\n",
    "Louis de Broglie foreslo i 1924 å utvide Einsteins hypotese om lys til å gjelde for alle partikler. Dermed gav det mening å snakke om frekvens og bølgelengde for alle objekter. Relasjonene mellom energi (E), frekvens (f) og bevegelsesmengde (p) er gitt ved:\n",
    "\n",
    "$$\n",
    "E = hf, \\quad p = \\frac{hf}{c},\n",
    "$$\n",
    "\n",
    "hvor $c$ er lyshastigheten (og bølgelengden er $\\lambda = c/f$).\n",
    "\n",
    "# Schrödingerlikningen\n",
    "\n",
    "Vi har tidligere simulert todimensjonale bølger ved å løse den klassiske bølgelikningen. På samme måte vil bølgefunksjonene som beskriver partiklene utvikle seg i henhold til en likning som ble introdusert av Erwing Schrödinger i 1925. Vi skal ikke utlede denne likningen (<a href=\"https://openworldlearning.github.io/docs/quantum_mechanics/schrodinger_equation.html\">men se gjerne her for en utfyllende introduksjon</a>), men skriver den for ordens skyld ned her:\n",
    "\n",
    "$$\n",
    "\\Big{ (}-\\frac{\\hbar^2}{2m}\\frac{\\partial^2 }{\\partial x^2} + V(x) \\Big{)} \\Psi = i \\hbar \\frac{\\partial }{\\partial t}\\Psi.\n",
    "$$\n",
    "\n",
    "I denne likningen er bølgefunksjonen $\\Psi(x,t)$ den ukjente som vi skal bestemme, mens $\\hbar = \\frac{h}{2\\pi}$ er Plancks konstant delt på $2\\pi$, $m$ er massen til partikkelen vi beskriver med $\\Psi$, $V(x)$ er et ledd som beskriver omgivelsene (den potensielle energien i et punkt $x$) og $i = \\sqrt{2}$ er den imaginære enheten. \n",
    "\n",
    "For å løse denne likningen for hydrogenatomet må vi sette inn for $V(x)$ fra Coulombs lov. Deretter kan vi entent forsøke å løse problemet med penn og papir, eller vi <a href=\"https://openworldlearning.github.io/docs/quantum_mechanics/numeric_schrodinger_1d.html\">kan bruke en algoritme </a> slik vi gjorde for den klassiske likningen.\n",
    "\n",
    "\n",
    "# Borns fortolkning\n",
    "\n",
    "\n",
    "\n",
    "Tenk nå tilbake på dobbeltspalteksperimentet. Det vi ønsker å beskrive med bølgefunksjonen er sannsynligheten for å måle partikkelen i ulike områder. Det vi ønsker oss er derfor en såkalt *sannsynlighetsfordeling* - en funksjon som viser oss hvor sannsynligheten er høy eller lav for å måle partikkelen. \n",
    "\n",
    "På samme måte som klassiske bølger vil bølgefunksjonen kunne være både positiv og negativ (faktisk også kompleks, men det skal vi ikke gå inn på her). Forestill deg at du kunne fryse tiden i et blikkstille basseng. Samle nå sammen en stor mengde vann som en stor, positiv bølge i midten av bassenget. Hva vil skje når tiden begynner å gå?Noen steder vil bølgen svinge opp, andre steder ned, men i ulike tidspunkter vil du ofte ha verdier i bølgen som ligger under det gjennomsnittlige nivået - altså negative utslag. \n",
    "\n",
    "Hvordan tolker vi en negativ sannsynlighet?\n",
    "\n",
    "Kvadratet av bølgen $\\vert \\Psi(x,t) \\vert^2$ er derimot alltid positivt, så om vi baserer vår fysiske fortolkning på dette finner vi noe som kan fortolkes som en sannsynlighetsfordeling. \n",
    "\n",
    "Dette er sannsynlighetsfortolkningen, introdusert av Max Born i siste halvdel av 1920-tallet, som vist i figuren under:\n",
    "\n",
    "```{figure} ./graphics/wavefunction_8.png\n",
    "---\n",
    "height: 250px\n",
    "name: figure_4\n",
    "---\n",
    "Vi tolker kvadratet av bølgefunksjonen som en sannsynlighetstetthet.\n",
    "```"
   ]
  },
  {
   "cell_type": "code",
   "execution_count": null,
   "id": "b2d35177",
   "metadata": {},
   "outputs": [],
   "source": []
  }
 ],
 "metadata": {
  "kernelspec": {
   "display_name": "Python 3 (ipykernel)",
   "language": "python",
   "name": "python3"
  },
  "language_info": {
   "codemirror_mode": {
    "name": "ipython",
    "version": 3
   },
   "file_extension": ".py",
   "mimetype": "text/x-python",
   "name": "python",
   "nbconvert_exporter": "python",
   "pygments_lexer": "ipython3",
   "version": "3.10.6"
  }
 },
 "nbformat": 4,
 "nbformat_minor": 5
}
