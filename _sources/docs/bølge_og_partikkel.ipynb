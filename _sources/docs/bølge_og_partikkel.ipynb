{
 "cells": [
  {
   "cell_type": "markdown",
   "id": "8523212a",
   "metadata": {},
   "source": [
    "# Del 2: Bølge eller partikkel?"
   ]
  },
  {
   "cell_type": "markdown",
   "id": "8e2cdb6f",
   "metadata": {},
   "source": [
    "Vi snakket litt om lys før lunsj. Blant annet ble det nevnt at lys er bølger med frekvens og bølgelengde. Vi kan observere dette ved for eksmpel lysbrytning eller gjennom polaroidbriller.\n",
    "\n",
    "I tillegg lærte vi om den *fotoelektriske effekten*, og antok basert på denne at lys forekommer i små *kvanta* med bestemt energi. Vi observerer dette også når atomer absorberer og sender ut energi i bestemte størrelser, noe vi ofte kaller *bølgepakker*.\n",
    "\n",
    "Ordet *bølgepakke* kan imidlertid oppleves litt rart. Bølger i et basseng er spredt ut over et område, og det er vanskelig å avgrense hvor bølgen begynner og slutter. Hvordan kan egentlig bølger forekomme i avgrensede pakker? \n",
    "\n",
    "Det var lenge uklart hvorvidt lys var en partikkel eller en bølge, og det skulle omsider vise seg at svaret er at lys er *begge deler*. Faktisk skulle det vise seg at dette mysteriet stakk enda dypere, og at også partikler som elektroner, atomer og molekyler har både partikkel- og bølgeegenskaper. \n",
    "\n",
    "For å undersøke dette nærmere må vi først forstå litt mer om bølger, så la oss gjøre noen simuleringer."
   ]
  }
 ],
 "metadata": {
  "kernelspec": {
   "display_name": "Python 3 (ipykernel)",
   "language": "python",
   "name": "python3"
  },
  "language_info": {
   "codemirror_mode": {
    "name": "ipython",
    "version": 3
   },
   "file_extension": ".py",
   "mimetype": "text/x-python",
   "name": "python",
   "nbconvert_exporter": "python",
   "pygments_lexer": "ipython3",
   "version": "3.10.6"
  }
 },
 "nbformat": 4,
 "nbformat_minor": 5
}
