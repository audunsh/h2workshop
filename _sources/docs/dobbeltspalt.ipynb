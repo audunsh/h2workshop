{
 "cells": [
  {
   "cell_type": "markdown",
   "id": "48cb02c2",
   "metadata": {},
   "source": [
    "# Dobbelspalteksperimentet\n",
    "\n",
    "---\n",
    "\n",
    "````{margin}\n",
    "![Klassisk dobbeltspalt](./graphics/interference_.png)\n",
    "Klassiske partikler passerer gjennom to spalter.\n",
    "````\n",
    "Det finnes et eksperiment som synliggjør nær sagt hele det kvantemekaniske mysteriet. Med det du har lært så langt er du nå klar for å se dette eksperimentet, og deretter kanskje verdsette løsningen vi har kommet opp med for å forklare stabiliteten til hydrogen.\n",
    "\n",
    "Dobbeltspalteksperimentet er et eksperiment som har til hensikt å avgjøre hvorvidt noe er en bølge eller partikkel: bølgepakker sendes, en etter en, mot en vegg med to åpninger. På en annen vegg litt lenger unna på den andre siden av åpningene registrerer vi hvor bølgepakken treffer. \n",
    "\n",
    "Om vi gjør dette forsøket med en klassisk bølge (du kan faktisk simulere det med simulatoren du akkurat benyttet og en tavle) så vil vi se følgende:\n",
    "\n",
    "![klassisk dobbeltspalt 2](./graphics/classic_doubleslit.png)\n",
    "\n",
    "Fra venstre til høyre: (1) bølgen forlater kilden og brer seg utover likt i alle retninger. (2) Bølgen passerer spaltene, og vi ser diffraksjon av to nye bølger gjennom hver spalt. (3) Det oppstår interferens mellom de to bølgene på veggen bak.\n",
    "\n",
    "\n",
    "Dette forsøket har blitt gjennomført på mange ulike bestanddeler i naturen; lys, atomer og molekyler. Resultatet er alltid følgende:\n",
    "\n",
    "```{figure} ./graphics/doubleslit_detect.png\n",
    "---\n",
    "height: 450px\n",
    "name: figure_4\n",
    "---\n",
    "Utfall av dobbeltspalteksperimentet.\n",
    "```\n",
    "\n",
    "Når bestanddelene (en etter en) passerer gjennom to spalter, så ser vi et interferensmønster på veggen bak. Dette betyr at også partikler som elektroner, atomer og molekyler har bølgeegenskaper. I tillegg, som en liten overraskelse, ser vi at dersom vi forsøker å detektere *hvilken* spalt partiklene passerer gjennom, så forsvinner interferensmønsteret og vi ser klassisk partikkeloppførsel (som biljardkuler)."
   ]
  },
  {
   "cell_type": "markdown",
   "id": "e8a52d17",
   "metadata": {},
   "source": [
    "```{admonition} Diskuter\n",
    "- Forestill deg at du gjør dobbeltspalteksperimenter med biljardkuler på et biljardbord. Hvordan forventer du at fordelingen på den andre siden av veggen vil se ut?\n",
    "- Gav de eksperimentene vi diskuterte før lunsj oss noen grunn til å anta at \"solsystemmodellen\" for hydrogen, representert ved to ladede kuler for elektronet og protonet, er realistisk?\n",
    "- Er det et problem at noe i naturen oppfører seg både som en bølge og partikkel? Har vi noen grunn til å forvente at det må være det ene eller andre?\n",
    "```"
   ]
  },
  {
   "cell_type": "code",
   "execution_count": null,
   "id": "50c693b0",
   "metadata": {},
   "outputs": [],
   "source": []
  }
 ],
 "metadata": {
  "kernelspec": {
   "display_name": "Python 3 (ipykernel)",
   "language": "python",
   "name": "python3"
  },
  "language_info": {
   "codemirror_mode": {
    "name": "ipython",
    "version": 3
   },
   "file_extension": ".py",
   "mimetype": "text/x-python",
   "name": "python",
   "nbconvert_exporter": "python",
   "pygments_lexer": "ipython3",
   "version": "3.10.6"
  }
 },
 "nbformat": 4,
 "nbformat_minor": 5
}
