{
 "cells": [
  {
   "cell_type": "code",
   "execution_count": null,
   "id": "d649350e",
   "metadata": {},
   "outputs": [],
   "source": [
    "import braketlab as bk"
   ]
  },
  {
   "cell_type": "code",
   "execution_count": null,
   "id": "adcab9f2",
   "metadata": {},
   "outputs": [],
   "source": [
    "#n1 = bk.basisbank.get_harmonic_oscillator_function(0)\n",
    "n3 = bk.basisbank.get_harmonic_oscillator_function(1)\n",
    "n5 = bk.basisbank.get_harmonic_oscillator_function(4)\n",
    "n7 = bk.basisbank.get_harmonic_oscillator_function(7)\n",
    "n9 = bk.basisbank.get_harmonic_oscillator_function(8)\n",
    "\n",
    "N = n3+n5+n7+n9"
   ]
  },
  {
   "cell_type": "code",
   "execution_count": null,
   "id": "ad212224",
   "metadata": {},
   "outputs": [],
   "source": [
    "N.view(squared=True)"
   ]
  },
  {
   "cell_type": "code",
   "execution_count": null,
   "id": "e262571a",
   "metadata": {},
   "outputs": [],
   "source": [
    "psi = psi_ho(0)*c(t)[0] + psi_ho[1]*c(t)[1]"
   ]
  },
  {
   "cell_type": "code",
   "execution_count": 5,
   "id": "b47571fc",
   "metadata": {},
   "outputs": [],
   "source": [
    "import pyscf "
   ]
  },
  {
   "cell_type": "code",
   "execution_count": 8,
   "id": "e8301e3c",
   "metadata": {},
   "outputs": [
    {
     "data": {
      "text/plain": [
       "False"
      ]
     },
     "execution_count": 8,
     "metadata": {},
     "output_type": "execute_result"
    }
   ],
   "source": [
    "pyscf.gto\n",
    "\n",
    "gto = 3\n",
    "\n",
    "gto == pyscf.gto"
   ]
  },
  {
   "cell_type": "code",
   "execution_count": 4,
   "id": "03e2b8d9",
   "metadata": {},
   "outputs": [
    {
     "data": {
      "text/plain": [
       "<module 'pyscf.scf' from '/usr/local/lib/python3.10/site-packages/pyscf/scf/__init__.py'>"
      ]
     },
     "execution_count": 4,
     "metadata": {},
     "output_type": "execute_result"
    }
   ],
   "source": [
    "scf"
   ]
  },
  {
   "cell_type": "code",
   "execution_count": null,
   "id": "cad46bf2",
   "metadata": {},
   "outputs": [],
   "source": [
    "pip install pyscf --force-reinstall"
   ]
  }
 ],
 "metadata": {
  "kernelspec": {
   "display_name": "Python 3 (ipykernel)",
   "language": "python",
   "name": "python3"
  },
  "language_info": {
   "codemirror_mode": {
    "name": "ipython",
    "version": 3
   },
   "file_extension": ".py",
   "mimetype": "text/x-python",
   "name": "python",
   "nbconvert_exporter": "python",
   "pygments_lexer": "ipython3",
   "version": "3.10.6"
  }
 },
 "nbformat": 4,
 "nbformat_minor": 5
}
