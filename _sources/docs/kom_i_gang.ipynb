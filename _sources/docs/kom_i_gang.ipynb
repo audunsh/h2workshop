{
 "cells": [
  {
   "cell_type": "markdown",
   "id": "888a8fd1",
   "metadata": {},
   "source": [
    "# Hvordan kjøre simuleringene\n",
    "\n",
    "---"
   ]
  },
  {
   "cell_type": "markdown",
   "id": "6f9285a4",
   "metadata": {},
   "source": [
    "Det er flere måter å kjøre de kodene du finner her på. Den kanskje enkleste er å benytte <i class=\"fa fa-rocket\" aria-hidden=\"true\"></i>-ikonet øverst til høyre over Notebooken og velge \"Binder\". Gjør dette med denne siden, og vent tålmodig noen minutter mens Binder starter opp.\n",
    "\n",
    "Du vil likevel måtte installere noe programvare for å kjøre eksemplene som vi skal se på. Det gjøres ved å markere cellen under og trykke \"Run\" eller Shift+Enter:"
   ]
  },
  {
   "cell_type": "code",
   "execution_count": null,
   "id": "8e8e4e91",
   "metadata": {},
   "outputs": [],
   "source": [
    "!pip install bubblebox matplotlib scipy braketlab opencv-python"
   ]
  },
  {
   "cell_type": "markdown",
   "id": "cb13324f",
   "metadata": {},
   "source": [
    "Til sist må du laste siden på nytt i nettleseren, så er alt klart. Lykke til!"
   ]
  }
 ],
 "metadata": {
  "kernelspec": {
   "display_name": "Python 3 (ipykernel)",
   "language": "python",
   "name": "python3"
  },
  "language_info": {
   "codemirror_mode": {
    "name": "ipython",
    "version": 3
   },
   "file_extension": ".py",
   "mimetype": "text/x-python",
   "name": "python",
   "nbconvert_exporter": "python",
   "pygments_lexer": "ipython3",
   "version": "3.10.6"
  }
 },
 "nbformat": 4,
 "nbformat_minor": 5
}
