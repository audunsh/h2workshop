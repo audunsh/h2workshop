{
 "cells": [
  {
   "cell_type": "markdown",
   "id": "e8a92d75",
   "metadata": {},
   "source": [
    "# Schrödingerlikningen for hydrogenatomet\n",
    "\n",
    "---\n",
    "\n",
    "Schrödingerlikningen for hydrogenatomet kan skrives\n",
    "\n",
    "$$\n",
    "\\Big{ (}-\\frac{\\hbar^2}{2m}\\nabla^2 + \\frac{1}{r} \\Big{)} \\Psi(x,y,z,t) = i \\hbar \\frac{\\partial }{\\partial t}\\Psi(x,y,z,t),\n",
    "$$\n",
    "\n",
    "hvor $r = \\sqrt{x^2 + y^2 + z^2}$. Dette er en svært komplisert likning å løse med penn og papir, så selv på bachelornivå i kjemi holder vi oss til å *vise* hvordan man løser likningen heller enn å faktisk be studentene løse den. I dag skal vi se om vi kan løse likningen på en mindre konvensjonell måte.\n",
    "\n",
    "# Variasjonsprinsippet\n",
    "\n",
    "Et av de viktigste verktøyene vi kvantekjemikere har til rådighet kalles *variasjonsprinsippet*. Det forteller oss at om vi kan komme opp med et gjett på hva bølgefunksjonen til et system skal være, så kan vi fra Schrödingerlikningen finne en energi $E_{\\text{var}}$ for denne bølgefunksjonen som alltid er større eller lik den laveste energien $E_0$ som systemet kan ha i virkeligheten.\n",
    "\n",
    "I tillegg forteller prinsippet oss at i det tilfellet hvor energien $E_{\\text{var}}$ er den samme som systemets egentlige laveste energi $E_0$, så har vi funnet den korrekte løsningen på likningen.\n",
    "\n",
    "Vi kan uttrykke dette prinsippet som\n",
    "\n",
    "$$\n",
    "E_{\\text{var}}(\\Psi) \\geq E_0\n",
    "$$\n",
    "\n",
    "Utfordringen blir dermed å komme opp med en mulig $\\Psi$ som beskriver systemet vårt.\n",
    "\n",
    "Det gjelder selvsagt noen regler for hvordan $\\Psi$ skal være, men det kanskje viktigste er at kvadratet av funksjonen må kunne tolkes som en sannsynlighet. Derfor kan den ikke være uendelig eller ha flere verdier noen steder, og den må kunne gi sannsynligheten 1 for å finne partikkelen i hele rommet.\n",
    "\n",
    "# Variasjonsprinsippet i praksis\n",
    "\n",
    "Nedenfor benyttes <a href=\"https://audunsh.github.io/braketlab/\">BraketLab</a> en annen kode som vi har utviklet for læring og forskning her ved senteret. I cellen under får du en funksjon som tar inn en såkalt ```sympy```-funksjon, og sjekker hvilken variasjonell energi den finner for et lekeproblem (ikke hydrogenatomet). Utfordringen til deg er å komme opp men en bølgefunksjon som kommer så lavt som mulig i energi, ved å endre litt på den funksjonen vi sender inn.\n",
    "\n",
    "Merk deg at vi ikke tar med tidsavhengighet her. Dette går fint, for det viktigste vi er ute etter her er å finne ut hva slags struktur elektronet har omkring dette systemet. Hvor lavt kan du komme i energi?"
   ]
  },
  {
   "cell_type": "code",
   "execution_count": 1,
   "id": "692a4db0",
   "metadata": {},
   "outputs": [],
   "source": [
    "import braketlab as bk\n",
    "import sympy as sp\n",
    "\n",
    "x,y,z = sp.symbols(\"x y z\")\n",
    "\n",
    "\n",
    "def variasjonell_energi(psi):\n",
    "    \n",
    "    p = bk.ket( psi ) # lag en bølgefunksjon\n",
    "    p = p*(p.bra@p)**-.5 # normaliser den\n",
    "\n",
    "    m2 = bk.core.kinetic_operator() * p\n",
    "    #m1 = bk.core.onebody_coulomb_operator() * p\n",
    "    m1 = bk.ket( x**2*psi )\n",
    "\n",
    "    E_var = p.bra@m2 + p.bra@m1 # estimer energien med Monte-Carlo integrasjon (gir små unøyaktigheter)\n",
    "    return E_var, p\n",
    "    \n"
   ]
  },
  {
   "cell_type": "code",
   "execution_count": 10,
   "id": "d6d61f91",
   "metadata": {},
   "outputs": [
    {
     "name": "stdout",
     "output_type": "stream",
     "text": [
      "Variasjonell energi: 3.204790332857799 (Hartrees)\n"
     ]
    }
   ],
   "source": [
    "# lag din bølgefunksjon her, sjekk hvor lavt du kommer i energi\n",
    "\n",
    "\n",
    "# forandre på denne funksjonen for å finne en lavere variasjonell energi\n",
    "psi = 1/(.1 + x**2)  \n",
    "\n",
    "energi, psi0 = variasjonell_energi(psi)\n",
    "print(\"Variasjonell energi:\", energi, \"(Hartrees)\")"
   ]
  },
  {
   "cell_type": "markdown",
   "id": "cf2fff33",
   "metadata": {},
   "source": [
    "# Variasjonsprinsippet for hydrogen\n",
    "\n",
    "La oss til sist sjekke en mulig løsning for elektronets fordeling rundt hydrogenkjernen. \n",
    "\n",
    "```{admonition} Diskuter\n",
    "- Har du noen forventning til hvordan denne fordelingen skal se ut? Som en boks, som en kule eller som en pyramide?\n",
    "- Tror du det er mest sannsynlig å finne elektronet nært eller langt unna kjernen?\n",
    "```\n",
    "\n",
    "Vi vet at den eksakte løsningen (for grunntilstanden) er \n",
    "\n",
    "$$\n",
    "\\Psi_0(x,y,z) = \\frac{1}{\\sqrt{\\pi}} e^{-\\sqrt{x^2 + y^2 + z^2}}\n",
    "$$\n",
    "\n",
    "og at grunntilstandsenergien skal være $E_0 = -0.5$ Hartrees.\n",
    "\n",
    "vi har hjulpet deg litt i gang - kan du fullføre løsningen og sjekke at energien stemmer?"
   ]
  },
  {
   "cell_type": "code",
   "execution_count": null,
   "id": "6d361a46",
   "metadata": {},
   "outputs": [],
   "source": [
    "def variasjonell_energi(psi):\n",
    "    \n",
    "    p = bk.ket( psi ) # lag en bølgefunksjon\n",
    "    p = p*(p.bra@p)**-.5 # normaliser den\n",
    "\n",
    "    m2 = bk.core.kinetic_operator() * p\n",
    "    m1 = bk.core.onebody_coulomb_operator() * p\n",
    "    \n",
    "    E_var = p.bra@m2 + p.bra@m1 # estimer energien med Monte-Carlo integrasjon (gir små unøyaktigheter)\n",
    "    return E_var, p"
   ]
  },
  {
   "cell_type": "code",
   "execution_count": 8,
   "id": "b1383270",
   "metadata": {},
   "outputs": [
    {
     "data": {
      "text/latex": [
       "$\\displaystyle \\frac{1.0 e^{- \\sqrt{x_{0; 0}^{2.0} + x_{0; 1}^{2.0} + x_{0; 2}^{2.0}}}}{\\sqrt{\\pi}}$"
      ],
      "text/plain": [
       "1.0*exp(-sqrt(x_{0; 0}**2.0 + x_{0; 1}**2.0 + x_{0; 2}**2.0))/sqrt(pi)"
      ]
     },
     "execution_count": 8,
     "metadata": {},
     "output_type": "execute_result"
    }
   ],
   "source": [
    "psi = sp.exp( .. )\n",
    "\n",
    "E0, psi0 = variasjonell_energi(psi)\n",
    "\n",
    "print(\"Variasjonell energi:\", energi, \"(Hartrees)\")"
   ]
  },
  {
   "cell_type": "code",
   "execution_count": null,
   "id": "e9c06d98",
   "metadata": {},
   "outputs": [],
   "source": []
  }
 ],
 "metadata": {
  "kernelspec": {
   "display_name": "Python 3 (ipykernel)",
   "language": "python",
   "name": "python3"
  },
  "language_info": {
   "codemirror_mode": {
    "name": "ipython",
    "version": 3
   },
   "file_extension": ".py",
   "mimetype": "text/x-python",
   "name": "python",
   "nbconvert_exporter": "python",
   "pygments_lexer": "ipython3",
   "version": "3.10.6"
  }
 },
 "nbformat": 4,
 "nbformat_minor": 5
}
