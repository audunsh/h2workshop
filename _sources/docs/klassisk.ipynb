{
 "cells": [
  {
   "cell_type": "markdown",
   "id": "e7c902be",
   "metadata": {},
   "source": [
    "# Newtons lover og bevegelseslikningene"
   ]
  },
  {
   "cell_type": "markdown",
   "id": "fb33033b",
   "metadata": {},
   "source": [
    "Vi skal nå utforme en modell basert på det som kalles klassisk fysikk. Vi kommer til å møte en del matematiske uttrykk her for å ikke gjemme bort detaljer, men ikke nøl med å hoppe rett til modellen her og gå løs på simuleringen dersom det blir for mye.\n",
    "\n",
    "---\n",
    "\n",
    "Vi har tidligere sett at den elektromagnetiske kraften mellom to ladde partikler, i vårt tilfelle elektronet $Q_e$ og protonet $Q_p$ kan utrykkes\n",
    "\n",
    "$$\n",
    "\\mathbf{F} = \\frac{1}{4 \\pi \\varepsilon_0} \\frac{Q_e Q_p}{r_{12}^2} \\hat{\\mathbf{r}}, \n",
    "$$\n",
    "\n",
    "Dermed kan vi for enhver avstand finne den tiltrekkende kraften mellom disse to partiklene. \n",
    "\n",
    "Om vi kombinerer dette med Newtons andre lov:\n",
    "\n",
    "$$\n",
    "\\mathbf{F} = m \\mathbf{a} = \\big{(}\\frac{d}{dt} \\big{)}^2 \\mathbf{x}(t),\n",
    "$$\n",
    "\n",
    "så får vi det som kalles en *differensiallikning* for $\\mathbf{x}$:\n",
    "\n",
    "$$\n",
    "\\big{(}\\frac{d}{dt} \\big{)}^2 \\mathbf{x}(t) = \\frac{1}{4 \\pi \\varepsilon_0} \\frac{Q_e Q_p}{r_{12}^2} \\hat{\\mathbf{r}}.\n",
    "$$\n",
    "\n",
    "Vi har her også benyttet en <a href=\"https://no.wikipedia.org/wiki/Bevegelsesligning\">klassisk bevegelseslikning</a>, som forteller oss at farten ved et tidspunkt $t$ ($\\mathbf{v}$) er endring i posisjon ($\\mathbf{x}$), og akselerasjon ($\\mathbf{a}(t)$) er endring i fart:\n",
    "\n",
    "$$\n",
    "\\big{(}\\frac{d}{dt} \\big{)}^2 \\mathbf{x}(t) = \\frac{d}{dt} \\mathbf{v}(t) = \\mathbf{a}(t).\n",
    "$$\n",
    "\n",
    "\n",
    "Operasjonen $\\frac{d}{dt}$ er en derivasjon (se ekstra materiale om nødvendig), og i uttrykket over gjør vi det to ganger:\n",
    "\n",
    "$$\n",
    "\\big{(}\\frac{d}{dt} \\big{)}^2 = \\frac{d}{dt} \\frac{d}{dt}.\n",
    "$$\n",
    "\n",
    "# En modell\n",
    "\n",
    "Om vi overlater derivasjonsoperasjonen til datamaskinen kan vi finne et uttrykk for posisjonen til partiklene litt frem i tid. Du kan sammenlikne det med å gjøre følgende:\n",
    "\n",
    "1. Beregn kreftene som virker på elektronet og protonet. \n",
    "2. Finn akselerasjonen ved hjelp av Newtons annen lov.\n",
    "3. Benytt akselerasjonen til å oppdatere farten til partikkelen.\n",
    "4. Benytt farten til å oppdatere posisjonen til partikkelen.\n",
    "5. For de nye posisjonene, gjenta punkt 1-5.\n",
    "\n",
    "\n"
   ]
  },
  {
   "cell_type": "markdown",
   "id": "7ee63883",
   "metadata": {},
   "source": [
    "Du skal slippe å skrive kode for å gjøre dette fra bunnen av. Istedenfor skal bi benytte en kode som heter <a href=\"audunsh.github.io/bubblebox\">BubbleBox</a>, utviklet her på Hylleraas for å lære studenter å gjøre klassiske simuleringer på molekylært nivå. Koden er tilgjengelig som en Python-modul over PyPI, og installeres med"
   ]
  },
  {
   "cell_type": "code",
   "execution_count": null,
   "id": "4c0a67c7",
   "metadata": {},
   "outputs": [],
   "source": [
    "!pip install bubblebox"
   ]
  },
  {
   "cell_type": "markdown",
   "id": "4579c8f7",
   "metadata": {},
   "source": [
    "Nedenfor setter vi opp et hydrogenatom bestående av et proton og et elektron. Vi er ikke så opptatte av de eksakte verdiene for masse, ladning osv. - det viktigste er å finne ut om vi kan få dette til å bli stabilt. Du kan enten kjøre koden interaktivt i to celler som vist under, eller du kan gjøre en simulering hvor du regner litt frem i tid og deretter viser banen som elektronet har fulgt."
   ]
  },
  {
   "cell_type": "code",
   "execution_count": 3,
   "id": "8bbe6c18",
   "metadata": {},
   "outputs": [],
   "source": [
    "import bubblebox as bb \n",
    "import matplotlib.pyplot as plt # for visualisering\n",
    "import numpy as np # for beregninger\n",
    "\n",
    "\n",
    "# Du kan endre på disse\n",
    "elektronets_fart = np.array([0.0, np.sqrt(2), 0.0])\n",
    "protonets_fart = np.array([0.0,0.0, 0.0])\n",
    "elektronets_posisjon = np.array([1.0, 0.0, 0.0])\n",
    "fest_protonet = True # Hvis \"true\" -> protonet kan ikke røre på seg\n",
    "\n"
   ]
  },
  {
   "cell_type": "code",
   "execution_count": 4,
   "id": "4e045028",
   "metadata": {},
   "outputs": [
    {
     "data": {
      "application/vnd.jupyter.widget-view+json": {
       "model_id": "0db4c2cd86ab43d9bd2a0ab796de3612",
       "version_major": 2,
       "version_minor": 0
      },
      "text/plain": [
       "MDView(bg_color=[1.0, 1.0, 1.0], box=[-10, -10, -10], colors=[[0.664833326255199, 0.9837996292775378, 0.394534…"
      ]
     },
     "execution_count": 4,
     "metadata": {},
     "output_type": "execute_result"
    }
   ],
   "source": [
    "# Kjør interaktivt\n",
    "\n",
    "# sett opp hydrogen\n",
    "b = bb.showcase.classical_hydrogen(proton_fixed = fest_protonet, vel_electron=elektronets_fart, pos_electron = elektronets_posisjon)\n",
    "\n",
    "# tidssteg for tidsintegrasjon\n",
    "b.dt = 0.0001\n",
    "\n",
    "# antall tidssteg\n",
    "Nt = 100000\n",
    "\n",
    "pos = np.zeros((3, Nt), dtype = float) #array for å lagre elektronets posisjoner\n",
    "\n",
    "\n",
    "b.view()"
   ]
  },
  {
   "cell_type": "code",
   "execution_count": 5,
   "id": "5d092f9e",
   "metadata": {},
   "outputs": [
    {
     "ename": "KeyboardInterrupt",
     "evalue": "",
     "output_type": "error",
     "traceback": [
      "\u001b[0;31m---------------------------------------------------------------------------\u001b[0m",
      "\u001b[0;31mKeyboardInterrupt\u001b[0m                         Traceback (most recent call last)",
      "Cell \u001b[0;32mIn [5], line 1\u001b[0m\n\u001b[0;32m----> 1\u001b[0m \u001b[43mb\u001b[49m\u001b[38;5;241;43m.\u001b[39;49m\u001b[43mrun\u001b[49m\u001b[43m(\u001b[49m\u001b[38;5;241;43m10000\u001b[39;49m\u001b[43m,\u001b[49m\u001b[43m \u001b[49m\u001b[43mn_iterations_per_step\u001b[49m\u001b[43m \u001b[49m\u001b[38;5;241;43m=\u001b[39;49m\u001b[43m \u001b[49m\u001b[38;5;241;43m100\u001b[39;49m\u001b[43m)\u001b[49m\n",
      "File \u001b[0;32m/usr/local/lib/python3.10/site-packages/bubblebox/mdbox.py:1127\u001b[0m, in \u001b[0;36mmdbox.run\u001b[0;34m(self, nsteps, n_iterations_per_step)\u001b[0m\n\u001b[1;32m   1125\u001b[0m \u001b[38;5;28;01mfor\u001b[39;00m i \u001b[38;5;129;01min\u001b[39;00m \u001b[38;5;28mrange\u001b[39m(nsteps):\n\u001b[1;32m   1126\u001b[0m     \u001b[38;5;28;01mfor\u001b[39;00m j \u001b[38;5;129;01min\u001b[39;00m \u001b[38;5;28mrange\u001b[39m(n_iterations_per_step):\n\u001b[0;32m-> 1127\u001b[0m         \u001b[38;5;28;43mself\u001b[39;49m\u001b[38;5;241;43m.\u001b[39;49m\u001b[43madvance\u001b[49m\u001b[43m(\u001b[49m\u001b[43m)\u001b[49m\n\u001b[1;32m   1128\u001b[0m     \u001b[38;5;28mself\u001b[39m\u001b[38;5;241m.\u001b[39mupdate_view()\n",
      "File \u001b[0;32m/usr/local/lib/python3.10/site-packages/bubblebox/mdbox.py:862\u001b[0m, in \u001b[0;36mmdbox.advance_vverlet\u001b[0;34m(self)\u001b[0m\n\u001b[1;32m    858\u001b[0m \u001b[38;5;28mself\u001b[39m\u001b[38;5;241m.\u001b[39md_pos \u001b[38;5;241m=\u001b[39m \u001b[38;5;28mself\u001b[39m\u001b[38;5;241m.\u001b[39mvel_\u001b[38;5;241m*\u001b[39m\u001b[38;5;28mself\u001b[39m\u001b[38;5;241m.\u001b[39mdt \u001b[38;5;241m+\u001b[39m \u001b[38;5;241m.5\u001b[39m\u001b[38;5;241m*\u001b[39mFn\u001b[38;5;241m*\u001b[39m\u001b[38;5;28mself\u001b[39m\u001b[38;5;241m.\u001b[39mdt\u001b[38;5;241m*\u001b[39m\u001b[38;5;241m*\u001b[39m\u001b[38;5;241m2\u001b[39m\u001b[38;5;241m*\u001b[39m\u001b[38;5;28mself\u001b[39m\u001b[38;5;241m.\u001b[39mmasses_inv\n\u001b[1;32m    860\u001b[0m pos_new \u001b[38;5;241m=\u001b[39m \u001b[38;5;28mself\u001b[39m\u001b[38;5;241m.\u001b[39mpos \u001b[38;5;241m+\u001b[39m \u001b[38;5;28mself\u001b[39m\u001b[38;5;241m.\u001b[39md_pos\n\u001b[0;32m--> 862\u001b[0m forces_new \u001b[38;5;241m=\u001b[39m \u001b[38;5;28;43mself\u001b[39;49m\u001b[38;5;241;43m.\u001b[39;49m\u001b[43mforces\u001b[49m\u001b[43m(\u001b[49m\u001b[43mpos_new\u001b[49m\u001b[43m,\u001b[49m\u001b[43m \u001b[49m\u001b[38;5;28;43mself\u001b[39;49m\u001b[38;5;241;43m.\u001b[39;49m\u001b[43msize2\u001b[49m\u001b[43m,\u001b[49m\u001b[43m \u001b[49m\u001b[38;5;28;43mself\u001b[39;49m\u001b[38;5;241;43m.\u001b[39;49m\u001b[43minteractions\u001b[49m\u001b[43m,\u001b[49m\u001b[43m \u001b[49m\u001b[43mr2_cut\u001b[49m\u001b[43m \u001b[49m\u001b[38;5;241;43m=\u001b[39;49m\u001b[43m \u001b[49m\u001b[38;5;28;43mself\u001b[39;49m\u001b[38;5;241;43m.\u001b[39;49m\u001b[43mr2_cut\u001b[49m\u001b[43m,\u001b[49m\u001b[43m \u001b[49m\u001b[43mpair_list\u001b[49m\u001b[43m \u001b[49m\u001b[38;5;241;43m=\u001b[39;49m\u001b[43m \u001b[49m\u001b[38;5;28;43mself\u001b[39;49m\u001b[38;5;241;43m.\u001b[39;49m\u001b[43mpair_list\u001b[49m\u001b[43m)\u001b[49m\n\u001b[1;32m    864\u001b[0m \u001b[38;5;28mself\u001b[39m\u001b[38;5;241m.\u001b[39mvel_ \u001b[38;5;241m=\u001b[39m \u001b[38;5;28mself\u001b[39m\u001b[38;5;241m.\u001b[39mvel_ \u001b[38;5;241m+\u001b[39m \u001b[38;5;241m.5\u001b[39m\u001b[38;5;241m*\u001b[39m(forces_new \u001b[38;5;241m+\u001b[39m Fn)\u001b[38;5;241m*\u001b[39m\u001b[38;5;28mself\u001b[39m\u001b[38;5;241m.\u001b[39mdt\u001b[38;5;241m*\u001b[39m\u001b[38;5;28mself\u001b[39m\u001b[38;5;241m.\u001b[39mmasses_inv\n\u001b[1;32m    866\u001b[0m \u001b[38;5;28mself\u001b[39m\u001b[38;5;241m.\u001b[39mFn \u001b[38;5;241m=\u001b[39m forces_new\n",
      "File \u001b[0;32m/usr/local/lib/python3.10/site-packages/numba/core/serialize.py:29\u001b[0m, in \u001b[0;36m_numba_unpickle\u001b[0;34m(address, bytedata, hashed)\u001b[0m\n\u001b[1;32m     25\u001b[0m \u001b[38;5;66;03m# Keep unpickled object via `numba_unpickle` alive.\u001b[39;00m\n\u001b[1;32m     26\u001b[0m _unpickled_memo \u001b[38;5;241m=\u001b[39m {}\n\u001b[0;32m---> 29\u001b[0m \u001b[38;5;28;01mdef\u001b[39;00m \u001b[38;5;21m_numba_unpickle\u001b[39m(address, bytedata, hashed):\n\u001b[1;32m     30\u001b[0m     \u001b[38;5;124;03m\"\"\"Used by `numba_unpickle` from _helperlib.c\u001b[39;00m\n\u001b[1;32m     31\u001b[0m \n\u001b[1;32m     32\u001b[0m \u001b[38;5;124;03m    Parameters\u001b[39;00m\n\u001b[0;32m   (...)\u001b[0m\n\u001b[1;32m     41\u001b[0m \u001b[38;5;124;03m        unpickled object\u001b[39;00m\n\u001b[1;32m     42\u001b[0m \u001b[38;5;124;03m    \"\"\"\u001b[39;00m\n\u001b[1;32m     43\u001b[0m     key \u001b[38;5;241m=\u001b[39m (address, hashed)\n",
      "\u001b[0;31mKeyboardInterrupt\u001b[0m: "
     ]
    }
   ],
   "source": [
    "b.run(10000, n_iterations_per_step = 100)"
   ]
  },
  {
   "cell_type": "code",
   "execution_count": null,
   "id": "4e531c35",
   "metadata": {},
   "outputs": [],
   "source": [
    "# Kjør denne cellen for å regne litt frem i tid og deretter vise banen til elektronet\n",
    "\n",
    "# sett opp hydrogen\n",
    "b = bb.showcase.classical_hydrogen(proton_fixed = fest_protonet, vel_electron=elektronets_fart)\n",
    "\n",
    "# tidssteg for tidsintegrasjon\n",
    "b.dt = 0.0001\n",
    "\n",
    "# antall tidssteg\n",
    "Nt = 10000\n",
    "\n",
    "pos = np.zeros((3, Nt), dtype = float) #array for å lagre elektronets posisjoner\n",
    "\n",
    "\n",
    "\n",
    "# Gjør Nt tidssteg og lagre sekvensvis posisjonene (numerisk integrasjon)\n",
    "for i in range(Nt):\n",
    "    b.advance()\n",
    "    pos[:,i] = b.pos[:, 1]\n",
    "    \n",
    "# vis resultatene\n",
    "plt.figure(figsize =(8,8))\n",
    "plt.plot(pos[0], pos[1])\n",
    "plt.xlim(-2,2)\n",
    "plt.ylim(-2,2)"
   ]
  },
  {
   "cell_type": "markdown",
   "id": "dc9f9afc",
   "metadata": {},
   "source": [
    "\n",
    "```{admonition} Undersøk\n",
    "- Hvordan skal du gå frem for å vurdere om banen er stabil eller ikke?\n",
    "- Hvilke parametre kan du endre på her?\n",
    "- Kan du finne en stabil bane til elektronet? \n",
    "- Hvilken betydning har det om du endrer avstanden mellom protonet og elektronet?\n",
    "```"
   ]
  },
  {
   "cell_type": "code",
   "execution_count": null,
   "id": "7250d02e",
   "metadata": {},
   "outputs": [],
   "source": []
  }
 ],
 "metadata": {
  "kernelspec": {
   "display_name": "Python 3 (ipykernel)",
   "language": "python",
   "name": "python3"
  },
  "language_info": {
   "codemirror_mode": {
    "name": "ipython",
    "version": 3
   },
   "file_extension": ".py",
   "mimetype": "text/x-python",
   "name": "python",
   "nbconvert_exporter": "python",
   "pygments_lexer": "ipython3",
   "version": "3.10.6"
  }
 },
 "nbformat": 4,
 "nbformat_minor": 5
}
