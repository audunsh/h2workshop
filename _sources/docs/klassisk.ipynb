{
 "cells": [
  {
   "cell_type": "markdown",
   "id": "e7c902be",
   "metadata": {},
   "source": [
    "# Newtons lover og bevegelseslikningene"
   ]
  },
  {
   "cell_type": "markdown",
   "id": "fb33033b",
   "metadata": {},
   "source": [
    "Vi skal nå utforme en modell basert på det som kalles klassisk fysikk. Vi kommer til å møte en del matematiske uttrykk her for å ikke gjemme bort detaljer, men ikke nøl med å hoppe rett til modellen her og gå løs på simuleringen dersom det blir for mye.\n",
    "\n",
    "---\n",
    "\n",
    "Vi har tidligere sett at den elektromagnetiske kraften mellom to ladde partikler, i vårt tilfelle elektronet $Q_e$ og protonet $Q_p$ kan utrykkes\n",
    "\n",
    "$$\n",
    "\\mathbf{F} = \\frac{1}{4 \\pi \\varepsilon_0} \\frac{Q_e Q_p}{r_{12}^2} \\hat{\\mathbf{r}}, \n",
    "$$\n",
    "\n",
    "Dermed kan vi for enhver avstand finne den tiltrekkende kraften mellom disse to partiklene. \n",
    "\n",
    "Om vi kombinerer dette med Newtons andre lov:\n",
    "\n",
    "$$\n",
    "\\mathbf{F} = m \\mathbf{a} = \\big{(}\\frac{d}{dt} \\big{)}^2 \\mathbf{x}(t),\n",
    "$$\n",
    "\n",
    "så får vi det som kalles en *differensiallikning* for $\\mathbf{x}$:\n",
    "\n",
    "$$\n",
    "\\big{(}\\frac{d}{dt} \\big{)}^2 \\mathbf{x}(t) = \\frac{1}{4 \\pi \\varepsilon_0} \\frac{Q_e Q_p}{r_{12}^2} \\hat{\\mathbf{r}}.\n",
    "$$\n",
    "\n",
    "Vi har her også benyttet en <a href=\"https://no.wikipedia.org/wiki/Bevegelsesligning\">klassisk bevegelseslikning</a>, som forteller oss at farten ved et tidspunkt $t$ ($\\mathbf{v}$) er endring i posisjon ($\\mathbf{x}$), og akselerasjon ($\\mathbf{a}(t)$) er endring i fart:\n",
    "\n",
    "$$\n",
    "\\big{(}\\frac{d}{dt} \\big{)}^2 \\mathbf{x}(t) = \\frac{d}{dt} \\mathbf{v}(t) = \\mathbf{a}(t).\n",
    "$$\n",
    "\n",
    "\n",
    "Operasjonen $\\frac{d}{dt}$ er en derivasjon (se ekstra materiale om nødvendig), og i uttrykket over gjør vi det to ganger:\n",
    "\n",
    "$$\n",
    "\\big{(}\\frac{d}{dt} \\big{)}^2 = \\frac{d}{dt} \\frac{d}{dt}.\n",
    "$$\n",
    "\n",
    "# En modell\n",
    "\n",
    "Om vi overlater derivasjonsoperasjonen til datamaskinen kan vi finne et uttrykk for posisjonen til partiklene litt frem i tid. Du kan sammenlikne det med å gjøre følgende:\n",
    "\n",
    "1. Beregn kreftene som virker på elektronet og protonet. \n",
    "2. Finn akselerasjonen ved hjelp av Newtons annen lov.\n",
    "3. Benytt akselerasjonen til å oppdatere farten til partikkelen.\n",
    "4. Benytt farten til å oppdatere posisjonen til partikkelen.\n",
    "5. For de nye posisjonene, gjenta punkt 1-5.\n",
    "\n",
    "\n"
   ]
  },
  {
   "cell_type": "markdown",
   "id": "7ee63883",
   "metadata": {},
   "source": [
    "Du skal slippe å skrive kode for å gjøre dette fra bunnen av. Istedenfor skal bi benytte en kode som heter <a href=\"audunsh.github.io/bubblebox\">BubbleBox</a>, utviklet her på Hylleraas for å lære studenter å gjøre klassiske simuleringer på molekylært nivå. Koden er tilgjengelig som en Python-modul over PyPI, og installeres med"
   ]
  },
  {
   "cell_type": "code",
   "execution_count": null,
   "id": "4c0a67c7",
   "metadata": {},
   "outputs": [],
   "source": [
    "!pip install bubblebox"
   ]
  },
  {
   "cell_type": "markdown",
   "id": "4579c8f7",
   "metadata": {},
   "source": [
    "Nedenfor setter vi opp et hydrogenatom bestående av et proton og et elektron. Vi er ikke så opptatte av de eksakte verdiene for masse, ladning osv. - det viktigste er å finne ut om vi kan få dette til å bli stabilt. Du kan enten kjøre koden interaktivt i to celler som vist under, eller du kan gjøre en simulering hvor du regner litt frem i tids og deretter viser banen som elektronet har fulgt."
   ]
  },
  {
   "cell_type": "code",
   "execution_count": null,
   "id": "8bbe6c18",
   "metadata": {},
   "outputs": [],
   "source": [
    "import bubblebox as bb \n",
    "import matplotlib.pyplot as plt # for visualisering\n",
    "import numpy as np # for beregninger\n",
    "\n",
    "\n",
    "elektronets_fart = np.array([1.4, 0.0, 0.0])\n",
    "protonets_fart = np.array([0.0,0.0, 0.0])\n",
    "fest_protonet = True\n",
    "\n",
    "# sett opp hydrogen\n",
    "b = bb.showcase.classical_hydrogen() #proton_fixed = fest_protonet, vel_electron=elektronets_fart)\n",
    "\n",
    "# tidssteg for tidsintegrasjon\n",
    "b.dt = 0.0001\n",
    "\n",
    "# antall tidssteg\n",
    "Nt = 10000\n",
    "\n",
    "pos = np.zeros((3, Nt), dtype = float) #array for å lagre elektronets posisjoner\n",
    "\n",
    "\n",
    "\n",
    "# Gjør Nt tidssteg og lagre sekvensvis posisjonene (numerisk integrasjon)\n",
    "for i in range(Nt):\n",
    "    b.advance()\n",
    "    pos[:,i] = b.pos[:, 1]\n",
    "    \n",
    "# vis resultatene\n",
    "plt.figure(figsize =(8,8))\n",
    "plt.plot(pos[0], pos[1])\n",
    "plt.xlim(-2,2)\n",
    "plt.ylim(-2,2)"
   ]
  },
  {
   "cell_type": "code",
   "execution_count": null,
   "id": "4e045028",
   "metadata": {},
   "outputs": [],
   "source": [
    "elektronets_fart = np.array([0.0, 1.4, 0.0])\n",
    "protonets_fart = np.array([0.0,0.0, 0.0])\n",
    "fest_protonet = True\n",
    "\n",
    "# sett opp hydrogen\n",
    "b = bb.showcase.classical_hydrogen(proton_fixed = fest_protonet, vel_electron=elektronets_fart)\n",
    "\n",
    "# tidssteg for tidsintegrasjon\n",
    "b.dt = 0.0001\n",
    "\n",
    "# antall tidssteg\n",
    "Nt = 100000\n",
    "\n",
    "pos = np.zeros((3, Nt), dtype = float) #array for å lagre elektronets posisjoner\n",
    "\n",
    "\n",
    "b.view()"
   ]
  },
  {
   "cell_type": "code",
   "execution_count": null,
   "id": "5d092f9e",
   "metadata": {},
   "outputs": [],
   "source": [
    "b.run(10000, n_iterations_per_step = 100)"
   ]
  },
  {
   "cell_type": "code",
   "execution_count": null,
   "id": "f0995b78",
   "metadata": {},
   "outputs": [],
   "source": [
    "b = bb.showcase.classical_hydrogen(proton_fixed = False, vel_electron=np.array([0., np.sqrt(2), 0.]))\n",
    "\n",
    "\n",
    "B = b +(b+np.array([2.0, 0.0, 0.0]))\n",
    "\n",
    "print(B.interactions)\n",
    "B.dt = 0.0001"
   ]
  },
  {
   "cell_type": "code",
   "execution_count": null,
   "id": "1dfa089d",
   "metadata": {},
   "outputs": [],
   "source": [
    "B.view()"
   ]
  },
  {
   "cell_type": "code",
   "execution_count": null,
   "id": "cd49df5a",
   "metadata": {},
   "outputs": [],
   "source": [
    "B.run(10000, n_iterations_per_step = 100)"
   ]
  },
  {
   "cell_type": "code",
   "execution_count": null,
   "id": "87ca095a",
   "metadata": {},
   "outputs": [],
   "source": [
    "help(B.run)"
   ]
  },
  {
   "cell_type": "code",
   "execution_count": null,
   "id": "4c8f8f8c",
   "metadata": {},
   "outputs": [],
   "source": []
  }
 ],
 "metadata": {
  "kernelspec": {
   "display_name": "Python 3 (ipykernel)",
   "language": "python",
   "name": "python3"
  },
  "language_info": {
   "codemirror_mode": {
    "name": "ipython",
    "version": 3
   },
   "file_extension": ".py",
   "mimetype": "text/x-python",
   "name": "python",
   "nbconvert_exporter": "python",
   "pygments_lexer": "ipython3",
   "version": "3.10.6"
  }
 },
 "nbformat": 4,
 "nbformat_minor": 5
}
