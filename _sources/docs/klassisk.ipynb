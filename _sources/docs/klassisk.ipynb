{
 "cells": [
  {
   "cell_type": "markdown",
   "id": "2d40b093",
   "metadata": {},
   "source": [
    "# En modell basert på Newtons lover"
   ]
  },
  {
   "cell_type": "markdown",
   "id": "6eee7650",
   "metadata": {},
   "source": [
    "Vi skal nå utforme en modell basert på det som kalles klassisk fysikk. Vi kommer til å møte en del matematiske uttrykk her for å ikke gjemme bort detaljer, men ikke nøl med å hoppe rett til konklusjonen her og gå løs på simuleringen dersom det blir for mye.\n",
    "\n",
    "---\n",
    "\n",
    "Vi har tidligere sett at den elektromagnetiske kraften mellom to ladde partikler, i vårt tilfelle elektronet $Q_e$ og protonet $Q_p$ kan utrykkes\n",
    "\n",
    "$$\n",
    "\\mathbf{F} = \\frac{1}{4 \\pi \\varepsilon_0} \\frac{Q_e Q_p}{r_{12}^2} \\hat{\\mathbf{r}}, \n",
    "$$\n",
    "\n",
    "Dermed kan vi for enhver avstand finne den tiltrekkende kraften mellom disse to partiklene. \n",
    "\n",
    "Om vi kombinerer dette med Newtons andre lov:\n",
    "\n",
    "$$\n",
    "\\mathbf{F} = m \\mathbf{a} = \\big{(}\\frac{d}{dt} \\big{)}^2 \\mathbf{x}(t),\n",
    "$$\n",
    "\n",
    "så får vi det som kalles en *differensiallikning* for $\\mathbf{x}$:\n",
    "\n",
    "$$\n",
    "\\big{(}\\frac{d}{dt} \\big{)}^2 \\mathbf{x}(t) = \\frac{1}{4 \\pi \\varepsilon_0} \\frac{Q_e Q_p}{r_{12}^2} \\hat{\\mathbf{r}}.\n",
    "$$\n",
    "\n",
    "Vi har her også benyttet en <a href=\"https://no.wikipedia.org/wiki/Bevegelsesligning\">klassisk bevegelseslikning</a>, som forteller oss at farten ved et tidspunkt $t$ ($\\mathbf{v}$) er endring i posisjon ($\\mathbf{x}$), og akselerasjon ($\\mathbf{a}(t)$) er endring i fart:\n",
    "\n",
    "$$\n",
    "\\big{(}\\frac{d}{dt} \\big{)}^2 \\mathbf{x}(t) = \\frac{d}{dt} \\mathbf{v}(t) = \\mathbf{a}(t).\n",
    "$$\n",
    "\n",
    "\n",
    "Operasjonen $\\frac{d}{dt}$ er en derivasjon (se ekstra materiale om nødvendig), og i uttrykket over gjør vi det to ganger:\n",
    "\n",
    "$$\n",
    "\\big{(}\\frac{d}{dt} \\big{)}^2 = \\frac{d}{dt} \\frac{d}{dt}.\n",
    "$$\n",
    "\n",
    "# Konklusjon\n",
    "\n",
    "Om vi overlater derivasjonsoperasjonen til datamaskinen kan vi finne et uttrykk for posisjonen til partiklene litt frem i tid. Du kan sammenlikne det med å gjøre følgende:\n",
    "\n",
    "1. Beregn kreftene som virker på elektronet og protonet. \n",
    "2. Finn akselerasjonen ved hjelp av Newtons annen lov.\n",
    "3. Benytt akselerasjonen til å oppdatere farten til partikkelen.\n",
    "4. Benytt farten til å oppdatere posisjonen til partikkelen.\n",
    "5. For de nye posisjonene, gjenta punkt 1-5.\n",
    "\n",
    "\n"
   ]
  },
  {
   "cell_type": "code",
   "execution_count": null,
   "id": "4273a384",
   "metadata": {},
   "outputs": [],
   "source": []
  }
 ],
 "metadata": {
  "kernelspec": {
   "display_name": "Python 3 (ipykernel)",
   "language": "python",
   "name": "python3"
  },
  "language_info": {
   "codemirror_mode": {
    "name": "ipython",
    "version": 3
   },
   "file_extension": ".py",
   "mimetype": "text/x-python",
   "name": "python",
   "nbconvert_exporter": "python",
   "pygments_lexer": "ipython3",
   "version": "3.10.6"
  }
 },
 "nbformat": 4,
 "nbformat_minor": 5
}
