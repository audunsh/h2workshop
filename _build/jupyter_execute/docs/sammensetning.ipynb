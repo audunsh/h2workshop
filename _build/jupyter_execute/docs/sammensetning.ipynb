{
 "cells": [
  {
   "cell_type": "markdown",
   "id": "64b88626",
   "metadata": {},
   "source": [
    "# Bestanddelene i hydrogen\n",
    "\n",
    "En viktig brikke i vår forståelse av hva som holder molekyler og atomer sammen er at *ladede objekter trekker og dytter på hverandre* - det som kalles elektrostatiske vekselvirkninger.\n",
    "\n",
    "Allerede på tidlig 1800-tall kjente forskere til at ladede objekter vekselvirker gjennom <a href=\"https://no.wikipedia.org/wiki/Coulombs_lov\">Coulombs lov</a>. Kreftene som virker mellom to ladninger $Q_1$ og $Q_2$, separert med en avstand $r_{12}$ kan uttrykkes\n",
    "\n",
    "$$\n",
    "\\mathbf{F}_1 = \\frac{1}{4 \\pi \\varepsilon_0} \\frac{Q_1 Q_2}{r_{12}^2} \\hat{\\mathbf{r}}, \\tag{2}\n",
    "$$\n",
    "\n",
    "hvor $r_{12} = \\vert \\mathbf{r}_{12} \\vert = \\vert \\mathbf{r}_1 - \\mathbf{r}_2 \\vert$ er abstanden mellom objektene, vektoren $\\hat{\\mathbf{r}} = \\frac{\\mathbf{r}_1 - \\mathbf{r}_2}{r_{12}}$ er retningen mellom objektene og $\\varepsilon_0$ er den såkalte elektriske konstanten. \n",
    "\n",
    "Atomer er i seg selv nøytrale (ingen ladning), men som vi skal se kan de under visse betingelser splittes opp i mindre bestanddeler med ladning."
   ]
  },
  {
   "cell_type": "markdown",
   "id": "3fba9775",
   "metadata": {},
   "source": [
    "# Oppdagelsen av elektronet\n",
    "\n",
    "I 1897 observerte den britiske fysikeren Joseph John Thomson at atomer kan sende ut partikler med negativ ladning. Ved å måle hvordan stråling fra såkalte <a href=\"https://no.wikipedia.org/wiki/Bilder%C3%B8r\">katodestrålerør</a> bøyde av i elektriske felter kunne han både avgjøre at partiklene hadde negativ ladning, samt anslag partiklenes masse til å være langt lavere enn atomet som helhet. Disse partiklene har i dag fått navnet *elektroner*.\n",
    "\n",
    "````{margin}\n",
    "![Rosinbolle](./graphics/plum_pudding_nobeam.png)\n",
    "I rosinbollemodellen består atomet av en negativt ladde elektroner i et hav av positiv ladning.\n",
    "````\n",
    "Videre, ettersom atomene opprinnelig hadde vært nøytrale (ingen ladning) antok Thomson at atomer bestod av negative partikler som badet i et \"hav\" av positivt ladde partikler. Denne modellen har fått navnet *rosinbollemodellen* (på engelsk: *plum-pudding model*), hvor elektronene er rosinen i bolla."
   ]
  },
  {
   "cell_type": "markdown",
   "id": "f919a266",
   "metadata": {},
   "source": [
    "# Oppdagelsen av atomkjernen\n",
    "\n",
    "````{margin}\n",
    "![Atomkjernen](./graphics/figure_2_nobeam.png)\n",
    "En massiv positivt ladd kjerne omgitt av lette, negativt ladde elektroner.\n",
    "````\n",
    "Det hersket ikke enighet om rosinbollemodellen, og enkelte spekulerte i om en modell som lignet mer på solsystemet kunne ha noe for seg - en massiv positivt ladd kjerne omgitt av lette, negative elektroner.  \n",
    "\n",
    "For å avgjøre dette spørsmålet ble <a href=\"https://en.wikipedia.org/wiki/Geiger%E2%80%93Marsden_experiments\">en serie eksperimenter</a> gjennomført mellom 1908 og 1913 av Ernst Rutherford, Hans Geiger og Ernest Marsden, hvor de bestrålte gullfolie med positivt ladede partikler, som vist i figuren under.\n",
    "\n",
    "\n",
    "```{figure} ./graphics/figure_1.png\n",
    "---\n",
    "height: 400px\n",
    "name: figure_1\n",
    "---\n",
    "Geiger-Marsden eksperimentet: gullfolie bestråles med positivt ladde partikler.\n",
    "```\n",
    "\n",
    "Rutherford forventet at dersom den positive ladningen var spredt utover hele atomet så ville den innkommende strålingen svakt endre retning på sin ferd gjennom materialet. Om den positive ladningen derimot var konsentrert i en massiv kjerne forventet han å se det meste av strålingen passere uanfektet gjennom materialet, med unntak av noen få stråler som ble kraftig spredt i ulike retninger. \n",
    "\n",
    "Som vist i figuren over var ble strålingen spredt i alle mulige retninger, noe selv i samme retning som det kom fra, så Rutherford konkluderte basert på dette med at atomet bestod av en massiv, positiv kjerne omgitt av relativt lette, negative elektroner.\n",
    "\n",
    "\n",
    "```{admonition} Diskuter\n",
    "- Hvordan forklarer du de to utfallene Rutherford så for seg i lys av Coulombs lov (likning 2)? \n",
    "- Finnes det andre mulige tolkninger av Rutherfords eksperiment? Kan du se for deg en annen modell som gir samme resultat? \n",
    "```\n",
    "\n"
   ]
  },
  {
   "cell_type": "code",
   "execution_count": 1,
   "id": "cd71c0a1",
   "metadata": {},
   "outputs": [
    {
     "data": {
      "application/vnd.jupyter.widget-view+json": {
       "model_id": "7f492b2989544a95badd48bed3e086b9",
       "version_major": 2,
       "version_minor": 0
      },
      "text/plain": [
       "SpotlightView(aperture=0.001, bg_color=[1.0, 1.0, 1.0], box=[2, 2, 2], colors=[[0.4435247160283218, 0.41981187…"
      ]
     },
     "execution_count": 1,
     "metadata": {},
     "output_type": "execute_result"
    }
   ],
   "source": [
    "import bubblebox as bb\n",
    "import evince as ev\n",
    "import numpy as np\n",
    "\n",
    "hydrogen = bb.showcase.classical_hydrogen(vel_electron = np.array([0, 1.43, 0.0]))\n",
    "hydrogen.size = np.array([2,2,2])\n",
    "\n",
    "#hydrogen.advance = hydrogen.advance_euler\n",
    "\n",
    "hydrogen.dt = 0.001\n",
    "\n",
    "#hydrogen.v()\n",
    "\n",
    "b = ev.spotlight.SpotlightView(hydrogen)\n",
    "\n",
    "b.window_scale = 0.5\n",
    "b"
   ]
  }
 ],
 "metadata": {
  "kernelspec": {
   "display_name": "Python 3 (ipykernel)",
   "language": "python",
   "name": "python3"
  },
  "language_info": {
   "codemirror_mode": {
    "name": "ipython",
    "version": 3
   },
   "file_extension": ".py",
   "mimetype": "text/x-python",
   "name": "python",
   "nbconvert_exporter": "python",
   "pygments_lexer": "ipython3",
   "version": "3.10.6"
  },
  "widgets": {
   "application/vnd.jupyter.widget-state+json": {
    "state": {
     "6a965a9a42c5429896999fc9c224dd9c": {
      "model_module": "@jupyter-widgets/base",
      "model_module_version": "2.0.0",
      "model_name": "LayoutModel",
      "state": {
       "_model_module": "@jupyter-widgets/base",
       "_model_module_version": "2.0.0",
       "_model_name": "LayoutModel",
       "_view_count": null,
       "_view_module": "@jupyter-widgets/base",
       "_view_module_version": "2.0.0",
       "_view_name": "LayoutView",
       "align_content": null,
       "align_items": null,
       "align_self": null,
       "border_bottom": null,
       "border_left": null,
       "border_right": null,
       "border_top": null,
       "bottom": null,
       "display": null,
       "flex": null,
       "flex_flow": null,
       "grid_area": null,
       "grid_auto_columns": null,
       "grid_auto_flow": null,
       "grid_auto_rows": null,
       "grid_column": null,
       "grid_gap": null,
       "grid_row": null,
       "grid_template_areas": null,
       "grid_template_columns": null,
       "grid_template_rows": null,
       "height": null,
       "justify_content": null,
       "justify_items": null,
       "left": null,
       "margin": null,
       "max_height": null,
       "max_width": null,
       "min_height": null,
       "min_width": null,
       "object_fit": null,
       "object_position": null,
       "order": null,
       "overflow": null,
       "padding": null,
       "right": null,
       "top": null,
       "visibility": null,
       "width": null
      }
     },
     "7f492b2989544a95badd48bed3e086b9": {
      "model_module": "evince",
      "model_module_version": "^0.44.0",
      "model_name": "SpotlightModel",
      "state": {
       "_dom_classes": [],
       "_model_module": "evince",
       "_model_module_version": "^0.44.0",
       "_model_name": "SpotlightModel",
       "_view_count": null,
       "_view_module": "evince",
       "_view_module_version": "^0.44.0",
       "_view_name": "SpotlightView",
       "additive": false,
       "aperture": 0.001,
       "bg_color": [
        1.0,
        1.0,
        1.0
       ],
       "bonds": [],
       "box": [
        2,
        2,
        2
       ],
       "colors": [
        [
         0.4435247160283218,
         0.419811870469319,
         0.21602134450567456
        ],
        [
         0.23831483633975803,
         0.9725965645268783,
         0.24284474507501885
        ]
       ],
       "dof": false,
       "focus": 10.0,
       "fxaa": true,
       "init": true,
       "layout": "IPY_MODEL_6a965a9a42c5429896999fc9c224dd9c",
       "masses": [
        1836,
        1
       ],
       "max_blur": 0.01,
       "pos": [
        [
         0.0,
         0.0,
         0.0
        ],
        [
         1.0,
         0.0,
         0.0
        ]
       ],
       "radius": [
        1.0,
        1.0,
        1.0
       ],
       "sao": false,
       "saoBias": 0.1,
       "saoBlur": false,
       "saoBlurDepthCutoff": 0.05,
       "saoBlurRadius": 50,
       "saoBlurStdDev": 1.0,
       "saoIntensity": 0.1,
       "saoKernelRadius": 10,
       "saoMinResolution": 0.5,
       "saoScale": 100.0,
       "tabbable": null,
       "tooltip": null,
       "window_scale": 0.5,
       "window_scale_height": 0.5,
       "window_scale_width": 0.75
      }
     }
    },
    "version_major": 2,
    "version_minor": 0
   }
  }
 },
 "nbformat": 4,
 "nbformat_minor": 5
}