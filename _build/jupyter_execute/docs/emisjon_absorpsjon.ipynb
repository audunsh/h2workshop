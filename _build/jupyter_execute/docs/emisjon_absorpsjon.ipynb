{
 "cells": [
  {
   "cell_type": "markdown",
   "id": "65911d24",
   "metadata": {},
   "source": [
    "# Emisjon og absorbsjon\n",
    "\n",
    "I løpet av 1800-tallet ble det gjort en rekke forsøk som gav oss dypere innsikt i relasjonen mellom lys og materie. Forskere visste allerede ved tidlig 1800-tall at hvitt lys er sammensatt ulike farger, og at hver farge svarer til lysbølger med bestemte bølgelengder. En ny innsikt var at materie kan absorbere (ta opp) og emittere (sende ut) lys med bestemte bølgelengder.\n",
    "````{margin}\n",
    "![Lysbrytning](https://upload.wikimedia.org/wikipedia/commons/f/f5/Light_dispersion_conceptual_waves.gif)\n",
    "Hvitt lys kan brytes ned i ulike farger (grafikk fra wikipedia).\n",
    "````\n",
    "\n",
    "Om man for eksempel skinner hvitt lys på hydrogengass, så vil man kunne observere at visse frekvenser dempes i det utkommende lyset. På samme måte, om man varmer opp gassen, så vil den sende ut lys på mange av de samme frekvensene hvor vi observerer absorpsjon .  \n",
    "\n",
    "Det ble etterhvert klart at slike emissjons- og absorpsjonsspektra kunne observeres overalt rundt oss; i lys fra sola og stjerner, fra gasser og væske. Forskere innså dessuten at linjene var spesifikke for ulike materialer; for eksempel var linjene til hydrogengass ikke de samme som for neongass, og flammene ved forbrenning vil ha farger bestemt av materialet som brennes.\n",
    "\n",
    "# Hydrogenspektrumet\n",
    "\n",
    "For atomært hydrogen kunne man etterhvert måle flere linjer, og man forsøkte å lage matematiske uttrykk for å angi <a href=\"https://physics.nist.gov/PhysRefData/Handbook/Tables/hydrogentable2.htm\">disse linjene</a>. \n",
    "```{figure} ./graphics/hydrogen_spektrum.png\n",
    "---\n",
    "height: 100px\n",
    "name: figure_2\n",
    "---\n",
    "Noen linjer i spektrumet til hydrogen. Kan du se noen regelmessigheter?\n",
    "```\n",
    "\n"
   ]
  },
  {
   "cell_type": "markdown",
   "id": "07929f1c",
   "metadata": {},
   "source": []
  }
 ],
 "metadata": {
  "kernelspec": {
   "display_name": "Python 3 (ipykernel)",
   "language": "python",
   "name": "python3"
  },
  "language_info": {
   "codemirror_mode": {
    "name": "ipython",
    "version": 3
   },
   "file_extension": ".py",
   "mimetype": "text/x-python",
   "name": "python",
   "nbconvert_exporter": "python",
   "pygments_lexer": "ipython3",
   "version": "3.10.6"
  }
 },
 "nbformat": 4,
 "nbformat_minor": 5
}