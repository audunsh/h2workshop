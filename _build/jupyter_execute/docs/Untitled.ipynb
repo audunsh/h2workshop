{
 "cells": [
  {
   "cell_type": "markdown",
   "id": "0f3c4808",
   "metadata": {},
   "source": [
    "# En fortelling om Hydrogen\n",
    "\n",
    "---\n",
    "\n",
    "Har du hørt om sølepytten som tenkte; “så deilig at bakken passer så perfekt til meg”? På samme måte er vi mennesker så godt tilpasset omgivelsene våre at de færreste knapt tenker på at verden vår er full av mysterier. Gjennom livet kan vi observere et univers dominert av struktur og endring; spirende planter, strømmende elver, smeltende snøkrystaller og eksploderende stjerner. \n",
    "\n",
    "Hvordan frembringer naturen slik struktur og endring? Å forstå og forutsi dette er selve kjernen i teoretisk vitenskap. Innen kvantekjemi begrenser vi oss til å se på dette problemet for elektroner, men vi skyr på ingen måte å bevege oss utenfor disse rammene om det er nødvendig. Naturen skiller ikke mellom kjemi og fysikk, og det gjør derfor heller ikke vi. \n",
    "\n",
    "Hydrogen\n",
    "\n",
    "Hydrogen er det grunnstoffet det finnes mest av i universet. På jorda finner vi Hydrogen i vann (H2O), organiske forbindelse og små mengder i lufta rundt oss som H2-gass. Som det enkleste grunnstoffet tilbyr Hydrogen oss nettopp en slik gåte som kan lede oss inn i kvantekjemiens verden.  Vi skal derfor bruke dagen på følgende spørsmål; hvordan kan Hydrogen være stabilt? \n",
    "\n",
    "Å forstå dette spørsmålet vil lære deg hva kvantekjemi handler om. Å besvare spørsmålet vil lære deg å tenke som en kvantekjemiker. Vi legger dermed lista ganske høyt: vi skal lære deg å gjøre kvantekjemi. \n",
    "\n",
    "Før lunsj i dag skal vi bli kjent med en rekke eksperimentelle fakta, og vi skal med utgangspunkt i dette sette opp en simulering hvor vi undersøker stabiliteten til hydrogen med utgangspunkt i den fysiske forståelsen vi hadde av naturen på begynnelsen av 1900-tallet. Etter lunsj skal vi ta skrittet inn i kvantemekanikkens verden, og lære hvordan vi simulerer molekyler og atomer med høy presisjon.\n"
   ]
  },
  {
   "cell_type": "code",
   "execution_count": null,
   "id": "e3ec8434",
   "metadata": {},
   "outputs": [],
   "source": []
  }
 ],
 "metadata": {
  "kernelspec": {
   "display_name": "Python 3 (ipykernel)",
   "language": "python",
   "name": "python3"
  },
  "language_info": {
   "codemirror_mode": {
    "name": "ipython",
    "version": 3
   },
   "file_extension": ".py",
   "mimetype": "text/x-python",
   "name": "python",
   "nbconvert_exporter": "python",
   "pygments_lexer": "ipython3",
   "version": "3.10.6"
  }
 },
 "nbformat": 4,
 "nbformat_minor": 5
}