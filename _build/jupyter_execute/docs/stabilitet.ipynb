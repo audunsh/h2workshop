{
 "cells": [
  {
   "cell_type": "markdown",
   "id": "18626adb",
   "metadata": {},
   "source": [
    "# Hydrogen er stabilt\n",
    "\n",
    "Vi er omsider kommet til det som kanskje er den mest åpenbare observasjonen om hydrogen: *det er stabilt*. Med det så mener vi at hydrogen ikke av seg selv forsvinner, eksploderer, blir til noe annet eller gjennomgår voldsomme endringer på noen måte. \n",
    "\n",
    "Vi kan dessverre ikke se hva elektroner og atomkjerner holder på med i mikroskop, men hva enn det er så vet vi at de inngår i en stabil (men dynamisk) struktur som ikke plutselig bryter sammen uten ytre påvirkning, og som kan sende ut og ta opp energi når vi bestråler den med lys. "
   ]
  },
  {
   "cell_type": "code",
   "execution_count": null,
   "id": "99bd622d",
   "metadata": {},
   "outputs": [],
   "source": []
  }
 ],
 "metadata": {
  "kernelspec": {
   "display_name": "Python 3 (ipykernel)",
   "language": "python",
   "name": "python3"
  },
  "language_info": {
   "codemirror_mode": {
    "name": "ipython",
    "version": 3
   },
   "file_extension": ".py",
   "mimetype": "text/x-python",
   "name": "python",
   "nbconvert_exporter": "python",
   "pygments_lexer": "ipython3",
   "version": "3.10.6"
  }
 },
 "nbformat": 4,
 "nbformat_minor": 5
}