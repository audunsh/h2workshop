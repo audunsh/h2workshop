{
 "cells": [
  {
   "cell_type": "markdown",
   "id": "cfbd98fd",
   "metadata": {},
   "source": [
    "# En fortelling om hydrogen\n",
    "\n",
    "---\n",
    "\n",
    "````{margin}\n",
    "![En sølepytt](./graphics/puddle_fit.png)\n",
    "En sølepytt passer ganske godt til bakken under.\n",
    "````\n",
    "Har du hørt om sølepytten som tenkte; “så deilig at bakken passer så perfekt til meg”? På samme måte er vi mennesker så godt tilpasset omgivelsene våre at det er lett å glemme at verden vår er full av mysterier. Gjennom livet kan vi observere et univers dominert av struktur og endring; spirende planter, strømmende elver, smeltende snøkrystaller og eksploderende stjerner. \n",
    "\n",
    "Hvordan frembringer naturen slik struktur og endring? Å forstå og forutsi dette er selve kjernen i teoretisk vitenskap. Innen kvantekjemi begrenser vi oss til å se på dette problemet for elektroner, men vi skyr på ingen måte å bevege oss utenfor disse rammene om det er nødvendig. Naturen skiller ikke mellom kjemi og fysikk, og det gjør derfor heller ikke vi. \n",
    "\n",
    "Dagens hovedperson er **hydrogen**. Hydrogen er det grunnstoffet det finnes mest av i universet. På jorda finner vi hydrogen i vann (H$_2$O), i organiske forbindelse og små mengder i lufta rundt oss som H$_2$-gass. Som det enkleste grunnstoffet tilbyr hydrogen oss nettopp en slik gåte som kan lede oss inn i kvantekjemiens verden.  Vi skal derfor bruke dagen på følgende spørsmål; *hvordan kan hydrogen være stabilt*? \n",
    "\n",
    "Å forstå dette spørsmålet vil lære deg hva kvantekjemi handler om. Å besvare spørsmålet vil lære deg å tenke som en kvantekjemiker. Vi legger dermed lista ganske høyt: vi skal lære deg å *gjøre* kvantekjemi. \n",
    "\n",
    "Før lunsj i dag skal vi bli kjent med en rekke eksperimentelle fakta, og vi skal med utgangspunkt i dette gjøre en simulering hvor vi undersøker stabiliteten til hydrogen, basert på den fysiske forståelsen forskere hadde av naturen på begynnelsen av 1900-tallet. Etter lunsj skal vi ta skrittet inn i kvantemekanikkens verden, og lære hvordan vi simulerer molekyler og atomer med høy presisjon."
   ]
  },
  {
   "cell_type": "markdown",
   "id": "2e4aae60",
   "metadata": {},
   "source": [
    "```{admonition} Dette er din oppgave før lunsj\n",
    "Kvantemekanikk gir svært presise prediksjoner om naturen, og regnes derfor som en av våre beste teorier om hvordan naturen fungerer. Det er likevel sider av teorien som stadig ikke er så godt forstått, og vi må aldri utelukke at det kan finnes måter å tolke det eksperimentelle grunnlaget for teorien på som gir en bedre teoretisk beskrivelse enn det vi har i dag. \n",
    "\n",
    "På de følgende sidene sammenfatter vi noen av de viktigste resultatene som er grunnlaget for vår moderne forståelse av atomer og molekyler. Vi har vært sparsommelige med å trekke konklusjoner, nettopp for å se hva du kommer frem til. Vil du ende opp med de samme problemene som fysikere på begynnelsen av 1900-tallet slet med? Vil du kommer frem til samme teori som vi benytter i dag? Eller vil du komme opp med noe helt nytt? \n",
    "\n",
    "Notér ned de eksperimentelle resultatene på en tavle eller i en notatblokk, og diskuter punktvis sammen med de du sitter med.\n",
    "```"
   ]
  },
  {
   "cell_type": "code",
   "execution_count": null,
   "id": "80732381",
   "metadata": {},
   "outputs": [],
   "source": []
  }
 ],
 "metadata": {
  "kernelspec": {
   "display_name": "Python 3 (ipykernel)",
   "language": "python",
   "name": "python3"
  },
  "language_info": {
   "codemirror_mode": {
    "name": "ipython",
    "version": 3
   },
   "file_extension": ".py",
   "mimetype": "text/x-python",
   "name": "python",
   "nbconvert_exporter": "python",
   "pygments_lexer": "ipython3",
   "version": "3.10.6"
  }
 },
 "nbformat": 4,
 "nbformat_minor": 5
}