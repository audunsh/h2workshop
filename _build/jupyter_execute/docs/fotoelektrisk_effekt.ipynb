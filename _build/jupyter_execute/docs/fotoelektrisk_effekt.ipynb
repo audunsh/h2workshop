{
 "cells": [
  {
   "cell_type": "markdown",
   "id": "b4a0e781",
   "metadata": {},
   "source": [
    "# Den fotoelektriske effekten\n",
    "\n",
    "I 1905 lanserte Albert Einstein en teori som banet vei for vår moderne forståelse av forholdet mellom lys og materie. \n",
    "\n",
    "Når lys skinner på enkelte materialer, for eksempel metaller, så kan vi observere en strøm av elektroner som løsrives fra materialet. Å bli løsrevet krever at elektronene tilføres energi, så her blir det helt tydelig at lys kan overføre energi. Vi kaller dette for den *fotoelektriske effekten*. \n",
    "\n",
    "Forestill deg nå at vi setter opp følgende eksperiment; vi har en lyskilde hvor vi kan justere både lysstyrken (intensiteten) og fargen (frekvensen) på lyset som vi bestråler materialet med. Det spesielle med den fotoelektriske effekten er at så lenge frekvensen på lyset er under en viss terskelverdi så ser vi ingen strøm av elektroner uansett hvor intens belysningen er. Justerer vi derimot frekvensen forbi denne terskelverdien vil vi se elektroner begynne å strømme, og strømstyrken vil være proporsjonal med frekvensen på lyset.\n",
    "\n",
    "Einstein foreslo på bakgrunn av dette at lys kommer i små pakker med en energi proporsjonalt med frekvensen:\n",
    "\n",
    "$$\n",
    "E = hf, \\tag{1}\n",
    "$$\n",
    "\n",
    "hvor h er en konstant som har fått navnet Planck’s konstant. Ved å måle bevegelsesenergien til de løsrevne elektronene og dele på frekvensen kunne de dermed bestemme h, og på denne måten finne energien til lys på ulike frekvenser.\n"
   ]
  },
  {
   "cell_type": "code",
   "execution_count": null,
   "id": "b200b9bf",
   "metadata": {},
   "outputs": [],
   "source": []
  }
 ],
 "metadata": {
  "kernelspec": {
   "display_name": "Python 3 (ipykernel)",
   "language": "python",
   "name": "python3"
  },
  "language_info": {
   "codemirror_mode": {
    "name": "ipython",
    "version": 3
   },
   "file_extension": ".py",
   "mimetype": "text/x-python",
   "name": "python",
   "nbconvert_exporter": "python",
   "pygments_lexer": "ipython3",
   "version": "3.10.6"
  }
 },
 "nbformat": 4,
 "nbformat_minor": 5
}