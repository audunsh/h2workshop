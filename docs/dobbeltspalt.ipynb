{
 "cells": [
  {
   "cell_type": "markdown",
   "id": "68533e54",
   "metadata": {},
   "source": [
    "# Bølge eller partikkel?"
   ]
  },
  {
   "cell_type": "markdown",
   "id": "5f4d35f7",
   "metadata": {},
   "source": [
    "Vi diskuterte såvidt lys før lunsj. Blant annet ble det nevnt at lys er bølger med frekvens og bølgelengde. "
   ]
  }
 ],
 "metadata": {
  "kernelspec": {
   "display_name": "Python 3 (ipykernel)",
   "language": "python",
   "name": "python3"
  },
  "language_info": {
   "codemirror_mode": {
    "name": "ipython",
    "version": 3
   },
   "file_extension": ".py",
   "mimetype": "text/x-python",
   "name": "python",
   "nbconvert_exporter": "python",
   "pygments_lexer": "ipython3",
   "version": "3.10.6"
  }
 },
 "nbformat": 4,
 "nbformat_minor": 5
}
