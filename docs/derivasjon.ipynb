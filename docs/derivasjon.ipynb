{
 "cells": [
  {
   "cell_type": "markdown",
   "id": "8bc57d2a",
   "metadata": {},
   "source": [
    "# Ekstra: den deriverte (endring)\n",
    "\n",
    "---\n"
   ]
  },
  {
   "cell_type": "markdown",
   "id": "2a698c8a",
   "metadata": {},
   "source": [
    "Du kjenner sannsynligvis derivasjon som følgende operasjon\n",
    "\n",
    "$$ \\frac{d}{dx} f(x) := \\lim_{\\Delta x \\rightarrow 0} \\frac{f(x + \\Delta x) - f(x)}{\\Delta x}.$$\n",
    "\n",
    "Det finnes flere ekvivalente skrivemåter:\n",
    "\n",
    "$$ \\frac{d}{dx}f(x) = f'(x) = \\dot{f}(x).$$\n",
    "\n",
    "Vi fortolker typisk den deriverte av en funksjon som *endringsraten* i verdien $f(x)$, som følge av en liten endring i variabelen $x$.\n"
   ]
  },
  {
   "cell_type": "markdown",
   "id": "f3b0c529",
   "metadata": {},
   "source": [
    "# Eksempel: numerisk derivasjon"
   ]
  },
  {
   "cell_type": "code",
   "execution_count": 1,
   "id": "fc571a38",
   "metadata": {},
   "outputs": [],
   "source": [
    "import numpy as np\n",
    "import matplotlib.pyplot as plt\n",
    "\n",
    "def numdiff_vis_forward(x0, dx, method = 0):\n",
    "    \"\"\"\n",
    "    Interactive example of forward difference\n",
    "    \"\"\"\n",
    "    \n",
    "    # define some x values\n",
    "    x = np.linspace(0,2*np.pi, 100)\n",
    "    \n",
    "    # A function and it's exact derivative\n",
    "    f = lambda x : -x*(x-2*np.pi)  # f(x)\n",
    "    \n",
    "    df = lambda x : -2*x + 2*np.pi # f'(x)\n",
    "    \n",
    "    \n",
    "    # create a figure, plot results\n",
    "    plt.figure(1, figsize = (10,7))\n",
    "    \n",
    "    plt.plot(x,f(x), \"-\", label = \"f(x)\") #plot function\n",
    "    \n",
    "    \n",
    "    \n",
    "    \n",
    "    plt.title(\"Numerical derivative (Newton's difference quotient)\")\n",
    "    plt.xlabel(\"x\") #merk x-aksen\n",
    "    \n",
    "\n",
    "    \n",
    "    \n",
    "    plt.plot(x,df(x0)*(x-x0) + f(x0), \"--\", label = \"$tangent(f(x_0))$ (exact)\")\n",
    "    \n",
    "    if method==2:\n",
    "        df_dx = (f(x0+dx)-f(x0))/dx # Compute D^+ f(x0)\n",
    "        lab = \"$f(x_0) + (x-x_0) D^+ f(x_0)$\"\n",
    "        plt.plot(x0, f(x0), \"o\", color = (0,0,0))\n",
    "        plt.plot(x0+dx, f(x0+dx), \"o\", color = (0,0,0))\n",
    "        plt.fill_between([x0,x0+dx], [0,0], [12,12], color = (.3,.6,1), alpha = .1)\n",
    "        \n",
    "        plt.plot(x,df_dx*(x-x0) + f(x0), label = lab) #plot Tangent in f(x0)\n",
    "        \n",
    "    if method==1:\n",
    "        df_dx = (f(x0+.5*dx)-f(x0-.5*dx))/dx # Compute D f(x0)\n",
    "        lab = \"$f(x_0) + (x-x_0) D f(x_0)$\"\n",
    "        \n",
    "        plt.plot(x0+.5*dx, f(x0+.5*dx), \"o\", color = (0,0,0))\n",
    "        plt.plot(x0-.5*dx, f(x0-.5*dx), \"o\", color = (0,0,0))\n",
    "        plt.fill_between([x0-.5*dx,x0+.5*dx], [0,0], [12,12], color = (.3,.6,1), alpha = .1)\n",
    "        \n",
    "        plt.plot(x,df_dx*(x-x0) + f(x0), label = lab) #plot Tangent in f(x0)\n",
    "        \n",
    "    if method==0:\n",
    "        df_dx = (f(x0)-f(x0-dx))/dx # Compute D^- f(x0)\n",
    "        lab = \"$f(x_0) + (x-x_0) D^- f(x_0)$\"\n",
    "        \n",
    "        plt.plot(x0, f(x0), \"o\", color = (0,0,0))\n",
    "        plt.plot(x0-dx, f(x0-dx), \"o\", color = (0,0,0))\n",
    "        plt.fill_between([x0-dx,x0], [0,0], [12,12], color = (.3,.6,1), alpha = .1)\n",
    "        \n",
    "        plt.plot(x,df_dx*(x-x0) + f(x0), label = lab) #plot Tangent in f(x0)\n",
    "        \n",
    "        \n",
    "    \n",
    "    \n",
    "    \n",
    "    \n",
    "    \n",
    "    plt.text(x0+dx/2.0, 4, \"$\\Delta x$\", ha=\"center\")\n",
    "    plt.text(x0, f(x0)+.2, \"$x_0$\")\n",
    "    \n",
    "    plt.legend()\n",
    "    plt.ylim(0,np.pi**2 +1)\n",
    "    plt.xlim(0,2*np.pi)\n",
    "    plt.show()"
   ]
  },
  {
   "cell_type": "code",
   "execution_count": 2,
   "id": "55781062",
   "metadata": {},
   "outputs": [
    {
     "data": {
      "application/vnd.jupyter.widget-view+json": {
       "model_id": "ea8076c70da0402ba7dcf9a419cf5c9c",
       "version_major": 2,
       "version_minor": 0
      },
      "text/plain": [
       "interactive(children=(FloatSlider(value=3.141, description='x0', max=6.283185307179586, step=0.001), FloatSlid…"
      ]
     },
     "metadata": {},
     "output_type": "display_data"
    }
   ],
   "source": [
    "from ipywidgets import interact, interactive\n",
    "from IPython.display import display\n",
    "\n",
    "y = interactive(numdiff_vis_forward, x0 = (0,2*np.pi,.001), dx = (0.001, 1, 0.001), method = (0,2,1)) \n",
    "display(y)"
   ]
  },
  {
   "cell_type": "markdown",
   "id": "a9f8e83c",
   "metadata": {},
   "source": [
    "```{admonition} Diskusjon\n",
    "- Hva er en passende verdi for ∆x? Kan du se en generell trend?\n",
    "- Forandre funksjonen og dens deriverte. Fungerer de ulike diskrete differensialene like godt for andre funksjoner?\n",
    "```"
   ]
  }
 ],
 "metadata": {
  "kernelspec": {
   "display_name": "Python 3 (ipykernel)",
   "language": "python",
   "name": "python3"
  },
  "language_info": {
   "codemirror_mode": {
    "name": "ipython",
    "version": 3
   },
   "file_extension": ".py",
   "mimetype": "text/x-python",
   "name": "python",
   "nbconvert_exporter": "python",
   "pygments_lexer": "ipython3",
   "version": "3.10.6"
  }
 },
 "nbformat": 4,
 "nbformat_minor": 5
}
