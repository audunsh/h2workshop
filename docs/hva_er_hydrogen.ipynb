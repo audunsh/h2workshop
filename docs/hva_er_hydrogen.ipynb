{
 "cells": [
  {
   "cell_type": "markdown",
   "id": "9d3a7a36",
   "metadata": {},
   "source": [
    "# Hva er hydrogen?\n",
    "\n",
    "````{margin}\n",
    "![Hydrogenatomet](./graphics/hydrogen_Classical.png)\n",
    "Hydrogenatomet består av en positivt ladet kjerne og et negativt ladd elektron.\n",
    "````\n",
    "La oss først få alle eksperimentelle fakta på bordet om hydrogen. Grunnstoffet består av to partikler med motsatt ladning; ett elektron og ett proton. Dette vet vi takket være en rekke eksperimenter gjennomført i løpet av de siste 200 årene.\n",
    "\n",
    "Henry Cavendish oppdaget i 1766 at reaksjoner mellom syre og metall produserte en usynlig gass, som ved antennelse produserte vann. Navnet “Hydrogen” kom litt seinere, og kan oversettes til “fra vann”, og reflekterer at gassen er en bestanddel i vann. \n",
    "\n",
    "## Den atomære hypotesen\n",
    "\n",
    "Det var likevel først på sent 1800-tall at vi fikk mer innsikt i hva Hydrogen består av. I 1803 oppdaget John Dalton at når to elementer kan danne flere forbindelser, så er masseforholdene (altså masse$_a$ / masse$_b$) mellom de to elementene alltid heltallige multipler av hverandre. For eksempel kan karbon (C) og okygen (O) danne både karbonmonoksid (CO) og karbondioksid (CO$_2$)\n",
    "\n",
    "(a) CO $\\rightarrow$ C + O\n",
    "\n",
    "(b) CO$_2$ $\\rightarrow$ C + O$_2$\n",
    "\n",
    "For en mengde karbondioksid finner vi at det forekommer 32 gram oksygen per 16 gram karbon, altså er massefraksjonen mf$_a$ = 32/12. For karbonmonoksid finner vi derimot 16 gram oksygen per 12 gram karbon, som gir massefraksjonen mf$_b$ = 16/12. Legg nå merke til at mf$_a$ = 2 mf$_b$, altså at mf$_a$ er en heltallig multippel av mf$_b$. Daltons fortolkning av dette resultatet var at det må finnes en minste bestanddel i disse reaksjonene, altså det vi kaller den *atomære hypotesen*. Det er med utgangspunkt i dette vi begynte å snakke om atomer og molekyler som bestanddeler i kjemiske reaksjoner.\n",
    "\n",
    "## Naturlig forekomst av hydrogen \n",
    "\n",
    "Amedeo Avogadro slo i 1811 fast at i det som kalles ideelle gasser ( deriblant hydrogengass) så er antallet molekyler per volum konstant. Når vi observerer hvordan volumet kan endre seg som følge av reaksjoner mellom gasser, så kan vi dermed også få en ide om hvordan hydrogengassen er bygget opp. Består den av enkeltatomer eller danner hydrogen molekyler innad? For atomer vil reaksjonen måtte være\n",
    "\n",
    "2H + O $\\rightarrow$ H$_2$O\n",
    "\n",
    "for å få det til å gå opp med massen. I dette tilfellet vil det dannes like mye volum vanngass som vi opprinnelig hadde oksygengass. Om derimot både oksygen og hydrogen forekommer som molekyler, altså \n",
    "\n",
    "H$_2$ + O$_2$ $\\rightarrow$ 2H$_2$O\n",
    "\n",
    "så vil det dannes dobbelt så mye volum H$_2$O som O$_2$. Avogadro kunne basert på denne prediksjonen og eksperimentelle resultater slå fast at det er den siste reaksjonen som stemmer, altså at Hydrogen i gassform forekommer som H$_2$ - det vi kaller et diatomært molekyl.\n"
   ]
  },
  {
   "cell_type": "code",
   "execution_count": null,
   "id": "f3d1d65e",
   "metadata": {},
   "outputs": [],
   "source": []
  }
 ],
 "metadata": {
  "kernelspec": {
   "display_name": "Python 3 (ipykernel)",
   "language": "python",
   "name": "python3"
  },
  "language_info": {
   "codemirror_mode": {
    "name": "ipython",
    "version": 3
   },
   "file_extension": ".py",
   "mimetype": "text/x-python",
   "name": "python",
   "nbconvert_exporter": "python",
   "pygments_lexer": "ipython3",
   "version": "3.10.6"
  }
 },
 "nbformat": 4,
 "nbformat_minor": 5
}
